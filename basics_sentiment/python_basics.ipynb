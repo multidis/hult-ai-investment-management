{
 "cells": [
  {
   "cell_type": "code",
   "execution_count": 1,
   "id": "bfb49aaa",
   "metadata": {},
   "outputs": [],
   "source": [
    "# Comment lines are ignored by the interpreter."
   ]
  },
  {
   "cell_type": "code",
   "execution_count": 2,
   "id": "3592a7d1",
   "metadata": {},
   "outputs": [],
   "source": [
    "# packages: \"batteries included\"\n",
    "# environments: avoid conflicts of package versions etc.\n",
    "#\n",
    "# Create a new environmentExample:\n",
    "#$ conda env create -f envinit.yml"
   ]
  },
  {
   "cell_type": "code",
   "execution_count": 3,
   "id": "6c87cb73",
   "metadata": {},
   "outputs": [
    {
     "data": {
      "text/plain": [
       "5"
      ]
     },
     "execution_count": 3,
     "metadata": {},
     "output_type": "execute_result"
    }
   ],
   "source": [
    "# working with interactive interpreter (Terminal, Jupyter notebook, IDE)\n",
    "2 + 3"
   ]
  },
  {
   "cell_type": "code",
   "execution_count": 4,
   "id": "d76c4260",
   "metadata": {},
   "outputs": [
    {
     "data": {
      "text/plain": [
       "5.5"
      ]
     },
     "execution_count": 4,
     "metadata": {},
     "output_type": "execute_result"
    }
   ],
   "source": [
    "2.5 + 3"
   ]
  },
  {
   "cell_type": "code",
   "execution_count": 5,
   "id": "b2451b67",
   "metadata": {},
   "outputs": [
    {
     "data": {
      "text/plain": [
       "int"
      ]
     },
     "execution_count": 5,
     "metadata": {},
     "output_type": "execute_result"
    }
   ],
   "source": [
    "# objects as instances of classes\n",
    "type(2)"
   ]
  },
  {
   "cell_type": "code",
   "execution_count": 6,
   "id": "8617d11c",
   "metadata": {},
   "outputs": [
    {
     "data": {
      "text/plain": [
       "float"
      ]
     },
     "execution_count": 6,
     "metadata": {},
     "output_type": "execute_result"
    }
   ],
   "source": [
    "type(2.5)"
   ]
  },
  {
   "cell_type": "code",
   "execution_count": 7,
   "id": "12a66688",
   "metadata": {},
   "outputs": [
    {
     "data": {
      "text/plain": [
       "str"
      ]
     },
     "execution_count": 7,
     "metadata": {},
     "output_type": "execute_result"
    }
   ],
   "source": [
    "type(\"investment management\")"
   ]
  },
  {
   "cell_type": "code",
   "execution_count": 8,
   "id": "8ced2167",
   "metadata": {},
   "outputs": [],
   "source": [
    "# assignment\n",
    "n = 3\n",
    "m = 5"
   ]
  },
  {
   "cell_type": "code",
   "execution_count": 9,
   "id": "3b9355bb",
   "metadata": {},
   "outputs": [
    {
     "data": {
      "text/plain": [
       "5"
      ]
     },
     "execution_count": 9,
     "metadata": {},
     "output_type": "execute_result"
    }
   ],
   "source": [
    "m"
   ]
  },
  {
   "cell_type": "code",
   "execution_count": 10,
   "id": "f0380df0",
   "metadata": {},
   "outputs": [],
   "source": [
    "#mm"
   ]
  },
  {
   "cell_type": "code",
   "execution_count": 11,
   "id": "0e5749e7",
   "metadata": {},
   "outputs": [],
   "source": [
    "course = \"Artificial Intellitgence for\"\n",
    "course_category = \"Investment Management\""
   ]
  },
  {
   "cell_type": "code",
   "execution_count": 12,
   "id": "20d5f780",
   "metadata": {},
   "outputs": [
    {
     "data": {
      "text/plain": [
       "8"
      ]
     },
     "execution_count": 12,
     "metadata": {},
     "output_type": "execute_result"
    }
   ],
   "source": [
    "# polymorphism\n",
    "m + n"
   ]
  },
  {
   "cell_type": "code",
   "execution_count": 13,
   "id": "4a2ba223",
   "metadata": {},
   "outputs": [
    {
     "data": {
      "text/plain": [
       "'Artificial Intellitgence forInvestment Management'"
      ]
     },
     "execution_count": 13,
     "metadata": {},
     "output_type": "execute_result"
    }
   ],
   "source": [
    "course + course_category"
   ]
  },
  {
   "cell_type": "code",
   "execution_count": 14,
   "id": "583ca75f",
   "metadata": {},
   "outputs": [
    {
     "data": {
      "text/plain": [
       "'Artificial Intellitgence for Investment Management'"
      ]
     },
     "execution_count": 14,
     "metadata": {},
     "output_type": "execute_result"
    }
   ],
   "source": [
    "#TODO make this string have proper spacing\n",
    "course + \" \" + course_category"
   ]
  },
  {
   "cell_type": "code",
   "execution_count": 15,
   "id": "56468b8f",
   "metadata": {},
   "outputs": [],
   "source": [
    "# fails for mismatched types\n",
    "#\"course\" + 1"
   ]
  },
  {
   "cell_type": "code",
   "execution_count": 16,
   "id": "1e50bec1",
   "metadata": {},
   "outputs": [
    {
     "data": {
      "text/plain": [
       "'course1'"
      ]
     },
     "execution_count": 16,
     "metadata": {},
     "output_type": "execute_result"
    }
   ],
   "source": [
    "# convert to string type\n",
    "\"course\" + str(1)"
   ]
  },
  {
   "cell_type": "code",
   "execution_count": 17,
   "id": "1823d4e1",
   "metadata": {},
   "outputs": [
    {
     "data": {
      "text/plain": [
       "'course1'"
      ]
     },
     "execution_count": 17,
     "metadata": {},
     "output_type": "execute_result"
    }
   ],
   "source": [
    "# or use so-called f-string\n",
    "f\"course{1}\""
   ]
  },
  {
   "cell_type": "code",
   "execution_count": 18,
   "id": "a1fe3e4d",
   "metadata": {},
   "outputs": [
    {
     "data": {
      "text/plain": [
       "'course5'"
      ]
     },
     "execution_count": 18,
     "metadata": {},
     "output_type": "execute_result"
    }
   ],
   "source": [
    "# more generally:\n",
    "ncourse = 5\n",
    "f\"course{ncourse}\""
   ]
  },
  {
   "cell_type": "code",
   "execution_count": 19,
   "id": "ef15ed98",
   "metadata": {},
   "outputs": [],
   "source": [
    "# functions\n",
    "def add_space(s1, s2):\n",
    "    s = s1 + \" \" + s2\n",
    "    return s"
   ]
  },
  {
   "cell_type": "code",
   "execution_count": 20,
   "id": "d07bc15b",
   "metadata": {},
   "outputs": [],
   "source": [
    "# error\n",
    "#add_space(\"something\")"
   ]
  },
  {
   "cell_type": "code",
   "execution_count": 21,
   "id": "342eabe5",
   "metadata": {},
   "outputs": [
    {
     "data": {
      "text/plain": [
       "'something else'"
      ]
     },
     "execution_count": 21,
     "metadata": {},
     "output_type": "execute_result"
    }
   ],
   "source": [
    "add_space(\"something\", \"else\")"
   ]
  },
  {
   "cell_type": "code",
   "execution_count": 22,
   "id": "bcd79710",
   "metadata": {},
   "outputs": [],
   "source": [
    "# controlling the flow: conditionals\n",
    "def describe_sentiment(score):\n",
    "    if score < 0:\n",
    "        s = \"negative\"\n",
    "    elif score == 0:\n",
    "        s = \"neutral\"\n",
    "    else:\n",
    "        s = \"positive\"\n",
    "    return s + \" sentiment\""
   ]
  },
  {
   "cell_type": "code",
   "execution_count": 23,
   "id": "6115132c",
   "metadata": {},
   "outputs": [
    {
     "data": {
      "text/plain": [
       "'positive sentiment'"
      ]
     },
     "execution_count": 23,
     "metadata": {},
     "output_type": "execute_result"
    }
   ],
   "source": [
    "describe_sentiment(2)"
   ]
  },
  {
   "cell_type": "code",
   "execution_count": 24,
   "id": "043386d5",
   "metadata": {},
   "outputs": [
    {
     "data": {
      "text/plain": [
       "'negative sentiment'"
      ]
     },
     "execution_count": 24,
     "metadata": {},
     "output_type": "execute_result"
    }
   ],
   "source": [
    "describe_sentiment(-1)"
   ]
  },
  {
   "cell_type": "code",
   "execution_count": 25,
   "id": "61c95400",
   "metadata": {},
   "outputs": [
    {
     "data": {
      "text/plain": [
       "'neutral sentiment'"
      ]
     },
     "execution_count": 25,
     "metadata": {},
     "output_type": "execute_result"
    }
   ],
   "source": [
    "describe_sentiment(0)"
   ]
  },
  {
   "cell_type": "code",
   "execution_count": 26,
   "id": "809d0ea7",
   "metadata": {},
   "outputs": [],
   "source": [
    "#TODO write and test a function that returns your name if given \"student\" and course name if given \"course\"\n",
    "def student_course(spec):\n",
    "    if spec == \"student\":\n",
    "        return \"Pavel Paramonov\"\n",
    "    elif spec == \"course\":\n",
    "        return \"AI for Investment Management\"\n",
    "    return \"\""
   ]
  },
  {
   "cell_type": "code",
   "execution_count": 27,
   "id": "4989d63c",
   "metadata": {},
   "outputs": [
    {
     "data": {
      "text/plain": [
       "'Pavel Paramonov'"
      ]
     },
     "execution_count": 27,
     "metadata": {},
     "output_type": "execute_result"
    }
   ],
   "source": [
    "student_course(\"student\")"
   ]
  },
  {
   "cell_type": "code",
   "execution_count": 28,
   "id": "d68e2d1c",
   "metadata": {},
   "outputs": [
    {
     "data": {
      "text/plain": [
       "'AI for Investment Management'"
      ]
     },
     "execution_count": 28,
     "metadata": {},
     "output_type": "execute_result"
    }
   ],
   "source": [
    "student_course(\"course\")"
   ]
  },
  {
   "cell_type": "code",
   "execution_count": 29,
   "id": "7113bcdc",
   "metadata": {},
   "outputs": [
    {
     "data": {
      "text/plain": [
       "''"
      ]
     },
     "execution_count": 29,
     "metadata": {},
     "output_type": "execute_result"
    }
   ],
   "source": [
    "# note: a more defensive approach would be to raise an exception (depends on the purpose/use of the function)\n",
    "student_course(\"something else\")"
   ]
  },
  {
   "cell_type": "code",
   "execution_count": 30,
   "id": "fb1964a4",
   "metadata": {},
   "outputs": [
    {
     "data": {
      "text/plain": [
       "str"
      ]
     },
     "execution_count": 30,
     "metadata": {},
     "output_type": "execute_result"
    }
   ],
   "source": [
    "# more on strings (working wih text)\n",
    "s = 'QQQ GLD TLT' # single or double quotes\n",
    "type(s)"
   ]
  },
  {
   "cell_type": "code",
   "execution_count": 31,
   "id": "cc771025",
   "metadata": {},
   "outputs": [
    {
     "data": {
      "text/plain": [
       "11"
      ]
     },
     "execution_count": 31,
     "metadata": {},
     "output_type": "execute_result"
    }
   ],
   "source": [
    "len(s)"
   ]
  },
  {
   "cell_type": "code",
   "execution_count": 32,
   "id": "1b076f7f",
   "metadata": {},
   "outputs": [
    {
     "data": {
      "text/plain": [
       "'qqq gld tlt'"
      ]
     },
     "execution_count": 32,
     "metadata": {},
     "output_type": "execute_result"
    }
   ],
   "source": [
    "# make lower-case\n",
    "# NOTE: in Python, methods are \"packed\" in class (type) definition\n",
    "s.lower()"
   ]
  },
  {
   "cell_type": "code",
   "execution_count": 33,
   "id": "a4bf67f8",
   "metadata": {},
   "outputs": [
    {
     "data": {
      "text/plain": [
       "'Q'"
      ]
     },
     "execution_count": 33,
     "metadata": {},
     "output_type": "execute_result"
    }
   ],
   "source": [
    "# string is a sequence of characters;\n",
    "# CAUTION: python start index numbering with 0, not 1\n",
    "s[1]"
   ]
  },
  {
   "cell_type": "code",
   "execution_count": 34,
   "id": "d09f9348",
   "metadata": {},
   "outputs": [
    {
     "data": {
      "text/plain": [
       "'Q'"
      ]
     },
     "execution_count": 34,
     "metadata": {},
     "output_type": "execute_result"
    }
   ],
   "source": [
    "s[0]"
   ]
  },
  {
   "cell_type": "code",
   "execution_count": 35,
   "id": "a325a74d",
   "metadata": {},
   "outputs": [
    {
     "data": {
      "text/plain": [
       "'T'"
      ]
     },
     "execution_count": 35,
     "metadata": {},
     "output_type": "execute_result"
    }
   ],
   "source": [
    "#TODO tell me the 11th character in string s\n",
    "s[10]"
   ]
  },
  {
   "cell_type": "code",
   "execution_count": 36,
   "id": "610012ff",
   "metadata": {},
   "outputs": [
    {
     "data": {
      "text/plain": [
       "'T'"
      ]
     },
     "execution_count": 36,
     "metadata": {},
     "output_type": "execute_result"
    }
   ],
   "source": [
    "# last character\n",
    "s[-1]"
   ]
  },
  {
   "cell_type": "code",
   "execution_count": 37,
   "id": "692e97d3",
   "metadata": {},
   "outputs": [
    {
     "data": {
      "text/plain": [
       "'L'"
      ]
     },
     "execution_count": 37,
     "metadata": {},
     "output_type": "execute_result"
    }
   ],
   "source": [
    "# second-to-last character\n",
    "s[-2]"
   ]
  },
  {
   "cell_type": "code",
   "execution_count": 38,
   "id": "4e69d46f",
   "metadata": {},
   "outputs": [
    {
     "data": {
      "text/plain": [
       "'TLT'"
      ]
     },
     "execution_count": 38,
     "metadata": {},
     "output_type": "execute_result"
    }
   ],
   "source": [
    "# range of characters\n",
    "s[-3:]"
   ]
  },
  {
   "cell_type": "code",
   "execution_count": 39,
   "id": "59503b88",
   "metadata": {},
   "outputs": [
    {
     "data": {
      "text/plain": [
       "['QQQ', 'GLD', 'TLT']"
      ]
     },
     "execution_count": 39,
     "metadata": {},
     "output_type": "execute_result"
    }
   ],
   "source": [
    "# split on white space\n",
    "s.split()"
   ]
  },
  {
   "cell_type": "code",
   "execution_count": 40,
   "id": "3e8bffeb",
   "metadata": {},
   "outputs": [
    {
     "data": {
      "text/plain": [
       "list"
      ]
     },
     "execution_count": 40,
     "metadata": {},
     "output_type": "execute_result"
    }
   ],
   "source": [
    "# here we encounter a list\n",
    "type(s.split())"
   ]
  },
  {
   "cell_type": "code",
   "execution_count": 41,
   "id": "c7315850",
   "metadata": {},
   "outputs": [
    {
     "data": {
      "text/plain": [
       "3"
      ]
     },
     "execution_count": 41,
     "metadata": {},
     "output_type": "execute_result"
    }
   ],
   "source": [
    "len(s.split())"
   ]
  },
  {
   "cell_type": "code",
   "execution_count": 42,
   "id": "95bd2c6d",
   "metadata": {},
   "outputs": [
    {
     "name": "stdout",
     "output_type": "stream",
     "text": [
      "Current price of QQQ\n",
      "Current price of GLD\n",
      "Current price of TLT\n"
     ]
    }
   ],
   "source": [
    "# iterating through a data structure\n",
    "for ticker in s.split():\n",
    "    print(f\"Current price of {ticker}\")"
   ]
  },
  {
   "cell_type": "code",
   "execution_count": 43,
   "id": "7b39ff5c",
   "metadata": {},
   "outputs": [],
   "source": [
    "#TODO iterate over split parts and write URLs ending with .com"
   ]
  },
  {
   "cell_type": "code",
   "execution_count": 44,
   "id": "e457cab3",
   "metadata": {},
   "outputs": [],
   "source": [
    "# TODO the same but in lowercase"
   ]
  }
 ],
 "metadata": {
  "kernelspec": {
   "display_name": "Python 3 (ipykernel)",
   "language": "python",
   "name": "python3"
  },
  "language_info": {
   "codemirror_mode": {
    "name": "ipython",
    "version": 3
   },
   "file_extension": ".py",
   "mimetype": "text/x-python",
   "name": "python",
   "nbconvert_exporter": "python",
   "pygments_lexer": "ipython3",
   "version": "3.11.9"
  }
 },
 "nbformat": 4,
 "nbformat_minor": 5
}
