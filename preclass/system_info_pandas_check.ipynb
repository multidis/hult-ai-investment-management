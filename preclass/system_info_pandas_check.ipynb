{
 "cells": [
  {
   "cell_type": "code",
   "execution_count": 1,
   "id": "af6adfe5",
   "metadata": {},
   "outputs": [],
   "source": [
    "## System information and selected package test.\n",
    "import sys\n",
    "import platform\n",
    "import uuid\n",
    "import pandas as pd"
   ]
  },
  {
   "cell_type": "code",
   "execution_count": 2,
   "id": "8c71b0d1",
   "metadata": {},
   "outputs": [
    {
     "name": "stdout",
     "output_type": "stream",
     "text": [
      "My operating system is Linux\n",
      "('64bit', 'ELF')\n"
     ]
    }
   ],
   "source": [
    "print(f\"My operating system is {platform.system()}\")\n",
    "print(platform.architecture())"
   ]
  },
  {
   "cell_type": "code",
   "execution_count": 3,
   "id": "c7590a7f",
   "metadata": {},
   "outputs": [
    {
     "name": "stdout",
     "output_type": "stream",
     "text": [
      "My CPU is x86_64\n"
     ]
    }
   ],
   "source": [
    "print(f\"My CPU is {platform.processor()}\")"
   ]
  },
  {
   "cell_type": "code",
   "execution_count": 4,
   "id": "d3950f46",
   "metadata": {},
   "outputs": [
    {
     "name": "stdout",
     "output_type": "stream",
     "text": [
      "Python version:\n",
      "3.9.16 (main, Mar  8 2023, 14:00:05) \n",
      "[GCC 11.2.0]\n"
     ]
    }
   ],
   "source": [
    "print(f\"Python version:\")\n",
    "print(sys.version)"
   ]
  },
  {
   "cell_type": "code",
   "execution_count": 5,
   "id": "7fc345c1",
   "metadata": {},
   "outputs": [
    {
     "name": "stdout",
     "output_type": "stream",
     "text": [
      "pandas version is 1.5.3\n"
     ]
    }
   ],
   "source": [
    "print(f\"pandas version is {pd.__version__}\")"
   ]
  },
  {
   "cell_type": "code",
   "execution_count": 6,
   "id": "2241fd3c",
   "metadata": {},
   "outputs": [
    {
     "data": {
      "text/html": [
       "<div>\n",
       "<style scoped>\n",
       "    .dataframe tbody tr th:only-of-type {\n",
       "        vertical-align: middle;\n",
       "    }\n",
       "\n",
       "    .dataframe tbody tr th {\n",
       "        vertical-align: top;\n",
       "    }\n",
       "\n",
       "    .dataframe thead th {\n",
       "        text-align: right;\n",
       "    }\n",
       "</style>\n",
       "<table border=\"1\" class=\"dataframe\">\n",
       "  <thead>\n",
       "    <tr style=\"text-align: right;\">\n",
       "      <th></th>\n",
       "      <th>Date</th>\n",
       "      <th>Open</th>\n",
       "      <th>High</th>\n",
       "      <th>Low</th>\n",
       "      <th>Close</th>\n",
       "      <th>Adj Close</th>\n",
       "      <th>Volume</th>\n",
       "    </tr>\n",
       "  </thead>\n",
       "  <tbody>\n",
       "    <tr>\n",
       "      <th>0</th>\n",
       "      <td>2023-05-08</td>\n",
       "      <td>13247.089844</td>\n",
       "      <td>13302.429688</td>\n",
       "      <td>13193.080078</td>\n",
       "      <td>13291.639648</td>\n",
       "      <td>13291.639648</td>\n",
       "      <td>4216360000</td>\n",
       "    </tr>\n",
       "    <tr>\n",
       "      <th>1</th>\n",
       "      <td>2023-05-09</td>\n",
       "      <td>13228.639648</td>\n",
       "      <td>13254.809570</td>\n",
       "      <td>13193.879883</td>\n",
       "      <td>13201.110352</td>\n",
       "      <td>13201.110352</td>\n",
       "      <td>4126780000</td>\n",
       "    </tr>\n",
       "    <tr>\n",
       "      <th>2</th>\n",
       "      <td>2023-05-10</td>\n",
       "      <td>13308.410156</td>\n",
       "      <td>13384.419922</td>\n",
       "      <td>13204.790039</td>\n",
       "      <td>13347.830078</td>\n",
       "      <td>13347.830078</td>\n",
       "      <td>4948260000</td>\n",
       "    </tr>\n",
       "    <tr>\n",
       "      <th>3</th>\n",
       "      <td>2023-05-11</td>\n",
       "      <td>13376.849609</td>\n",
       "      <td>13411.700195</td>\n",
       "      <td>13306.080078</td>\n",
       "      <td>13389.780273</td>\n",
       "      <td>13389.780273</td>\n",
       "      <td>4489490000</td>\n",
       "    </tr>\n",
       "    <tr>\n",
       "      <th>4</th>\n",
       "      <td>2023-05-12</td>\n",
       "      <td>13407.019531</td>\n",
       "      <td>13427.419922</td>\n",
       "      <td>13256.559570</td>\n",
       "      <td>13340.179688</td>\n",
       "      <td>13340.179688</td>\n",
       "      <td>4170000000</td>\n",
       "    </tr>\n",
       "  </tbody>\n",
       "</table>\n",
       "</div>"
      ],
      "text/plain": [
       "         Date          Open          High           Low         Close  \\\n",
       "0  2023-05-08  13247.089844  13302.429688  13193.080078  13291.639648   \n",
       "1  2023-05-09  13228.639648  13254.809570  13193.879883  13201.110352   \n",
       "2  2023-05-10  13308.410156  13384.419922  13204.790039  13347.830078   \n",
       "3  2023-05-11  13376.849609  13411.700195  13306.080078  13389.780273   \n",
       "4  2023-05-12  13407.019531  13427.419922  13256.559570  13340.179688   \n",
       "\n",
       "      Adj Close      Volume  \n",
       "0  13291.639648  4216360000  \n",
       "1  13201.110352  4126780000  \n",
       "2  13347.830078  4948260000  \n",
       "3  13389.780273  4489490000  \n",
       "4  13340.179688  4170000000  "
      ]
     },
     "execution_count": 6,
     "metadata": {},
     "output_type": "execute_result"
    }
   ],
   "source": [
    "# recent NASDAQ-100 index values\n",
    "fcsv = \"https://raw.githubusercontent.com/multidis/hult-ai-investment-management/main/preclass/NDX.csv\"\n",
    "pd.read_csv(fcsv, parse_dates=True)"
   ]
  },
  {
   "cell_type": "code",
   "execution_count": 7,
   "id": "3186fbbc",
   "metadata": {},
   "outputs": [
    {
     "name": "stdout",
     "output_type": "stream",
     "text": [
      "Finally, something unique:\n",
      "367796ae-2e6b-46b4-b635-c295e0ce77ad\n"
     ]
    }
   ],
   "source": [
    "print(\"Finally, something unique:\")\n",
    "print(uuid.uuid4())"
   ]
  },
  {
   "cell_type": "code",
   "execution_count": 8,
   "id": "2a6857f2",
   "metadata": {},
   "outputs": [
    {
     "name": "stdout",
     "output_type": "stream",
     "text": [
      "If no errors/warnings, I am good to go with my Python setup. Look over various tutorials!\n"
     ]
    }
   ],
   "source": [
    "print(\"If no errors/warnings, I am good to go with my Python setup. Look over various tutorials!\")"
   ]
  }
 ],
 "metadata": {
  "kernelspec": {
   "display_name": "Python 3 (ipykernel)",
   "language": "python",
   "name": "python3"
  },
  "language_info": {
   "codemirror_mode": {
    "name": "ipython",
    "version": 3
   },
   "file_extension": ".py",
   "mimetype": "text/x-python",
   "name": "python",
   "nbconvert_exporter": "python",
   "pygments_lexer": "ipython3",
   "version": "3.9.16"
  }
 },
 "nbformat": 4,
 "nbformat_minor": 5
}
